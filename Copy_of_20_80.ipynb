{
  "nbformat": 4,
  "nbformat_minor": 0,
  "metadata": {
    "colab": {
      "name": "Copy of 20_80.ipynb",
      "provenance": []
    },
    "kernelspec": {
      "name": "python3",
      "display_name": "Python 3"
    },
    "language_info": {
      "name": "python"
    }
  },
  "cells": [
    {
      "cell_type": "code",
      "metadata": {
        "id": "fpZ7SYTwa7mK"
      },
      "source": [
        "import pandas as pd\n",
        "import numpy as np\n",
        "import seaborn as sns\n",
        "import matplotlib.pyplot as plt"
      ],
      "execution_count": null,
      "outputs": []
    },
    {
      "cell_type": "code",
      "metadata": {
        "colab": {
          "base_uri": "https://localhost:8080/"
        },
        "id": "5yhM_ltRa_vO",
        "outputId": "77175ded-e9b1-43ad-f2a0-99355ce04e82"
      },
      "source": [
        "from google.colab import drive\n",
        "drive.mount('/content/gdrive')"
      ],
      "execution_count": null,
      "outputs": [
        {
          "output_type": "stream",
          "text": [
            "Drive already mounted at /content/gdrive; to attempt to forcibly remount, call drive.mount(\"/content/gdrive\", force_remount=True).\n"
          ],
          "name": "stdout"
        }
      ]
    },
    {
      "cell_type": "code",
      "metadata": {
        "colab": {
          "base_uri": "https://localhost:8080/"
        },
        "id": "FaFQujArbBWR",
        "outputId": "4fc8ed4a-0a1a-4c0d-e748-7cf4a8e2e104"
      },
      "source": [
        "df=pd.read_csv('/content/gdrive/MyDrive/Kik-Net Data/attributes_fixed.csv')"
      ],
      "execution_count": null,
      "outputs": [
        {
          "output_type": "stream",
          "text": [
            "/usr/local/lib/python3.7/dist-packages/IPython/core/interactiveshell.py:2718: DtypeWarning: Columns (5,10,24,29,33,47,48,66,81,82,123,124) have mixed types.Specify dtype option on import or set low_memory=False.\n",
            "  interactivity=interactivity, compiler=compiler, result=result)\n"
          ],
          "name": "stderr"
        }
      ]
    },
    {
      "cell_type": "code",
      "metadata": {
        "id": "JVzWJZJ7bI8k"
      },
      "source": [
        "df1=df[(df['MT_Magnitude_']>= 3.5) & (df['MT_Magnitude_'] <= 7)&(df['rjb_0'] >=30) &(df['rjb_0'] <=300)&(df['Tectonic_Garcia_'] ==1)]"
      ],
      "execution_count": null,
      "outputs": []
    },
    {
      "cell_type": "code",
      "metadata": {
        "colab": {
          "base_uri": "https://localhost:8080/"
        },
        "id": "cMH2Eml3bLIk",
        "outputId": "5999881b-c94c-41db-b4b3-b1e81832fa6e"
      },
      "source": [
        "from scipy import stats\n",
        "df1['d5_75_new'] = stats.gmean(df1.loc[:,['D5_75_EW2','D5_75_NS2']], axis=1)\n",
        "df1['d5_95_new']=stats.gmean(df1.loc[:,['D5_95_EW2','D5_95_NS2']], axis=1)\n",
        "df1['d20_80_new']=stats.gmean(df1.loc[:,['D20_80_EW2','D20_80_NS2']], axis=1)"
      ],
      "execution_count": null,
      "outputs": [
        {
          "output_type": "stream",
          "text": [
            "/usr/local/lib/python3.7/dist-packages/ipykernel_launcher.py:2: SettingWithCopyWarning: \n",
            "A value is trying to be set on a copy of a slice from a DataFrame.\n",
            "Try using .loc[row_indexer,col_indexer] = value instead\n",
            "\n",
            "See the caveats in the documentation: https://pandas.pydata.org/pandas-docs/stable/user_guide/indexing.html#returning-a-view-versus-a-copy\n",
            "  \n",
            "/usr/local/lib/python3.7/dist-packages/ipykernel_launcher.py:3: SettingWithCopyWarning: \n",
            "A value is trying to be set on a copy of a slice from a DataFrame.\n",
            "Try using .loc[row_indexer,col_indexer] = value instead\n",
            "\n",
            "See the caveats in the documentation: https://pandas.pydata.org/pandas-docs/stable/user_guide/indexing.html#returning-a-view-versus-a-copy\n",
            "  This is separate from the ipykernel package so we can avoid doing imports until\n",
            "/usr/local/lib/python3.7/dist-packages/ipykernel_launcher.py:4: SettingWithCopyWarning: \n",
            "A value is trying to be set on a copy of a slice from a DataFrame.\n",
            "Try using .loc[row_indexer,col_indexer] = value instead\n",
            "\n",
            "See the caveats in the documentation: https://pandas.pydata.org/pandas-docs/stable/user_guide/indexing.html#returning-a-view-versus-a-copy\n",
            "  after removing the cwd from sys.path.\n"
          ],
          "name": "stderr"
        }
      ]
    },
    {
      "cell_type": "code",
      "metadata": {
        "id": "mP6oL8AgbNCl"
      },
      "source": [
        "df2=df1[['MT_Magnitude_','rrup_0','Vs30','d5_75_new','d5_95_new','d20_80_new']]"
      ],
      "execution_count": null,
      "outputs": []
    },
    {
      "cell_type": "code",
      "metadata": {
        "colab": {
          "base_uri": "https://localhost:8080/"
        },
        "id": "HAh7WHA1bPZO",
        "outputId": "5a647d59-9637-45a5-8169-1457a3f249b6"
      },
      "source": [
        "df2.dropna(inplace=True)"
      ],
      "execution_count": null,
      "outputs": [
        {
          "output_type": "stream",
          "text": [
            "/usr/local/lib/python3.7/dist-packages/ipykernel_launcher.py:1: SettingWithCopyWarning: \n",
            "A value is trying to be set on a copy of a slice from a DataFrame\n",
            "\n",
            "See the caveats in the documentation: https://pandas.pydata.org/pandas-docs/stable/user_guide/indexing.html#returning-a-view-versus-a-copy\n",
            "  \"\"\"Entry point for launching an IPython kernel.\n"
          ],
          "name": "stderr"
        }
      ]
    },
    {
      "cell_type": "code",
      "metadata": {
        "colab": {
          "base_uri": "https://localhost:8080/",
          "height": 200
        },
        "id": "KZBKgHD5bRMq",
        "outputId": "f908a3f7-ef62-43ea-f834-ba05fc5121d7"
      },
      "source": [
        "input_var=df2[['MT_Magnitude_','rrup_0']]\n",
        "\n",
        "input_var.head()"
      ],
      "execution_count": null,
      "outputs": [
        {
          "output_type": "execute_result",
          "data": {
            "text/html": [
              "<div>\n",
              "<style scoped>\n",
              "    .dataframe tbody tr th:only-of-type {\n",
              "        vertical-align: middle;\n",
              "    }\n",
              "\n",
              "    .dataframe tbody tr th {\n",
              "        vertical-align: top;\n",
              "    }\n",
              "\n",
              "    .dataframe thead th {\n",
              "        text-align: right;\n",
              "    }\n",
              "</style>\n",
              "<table border=\"1\" class=\"dataframe\">\n",
              "  <thead>\n",
              "    <tr style=\"text-align: right;\">\n",
              "      <th></th>\n",
              "      <th>MT_Magnitude_</th>\n",
              "      <th>rrup_0</th>\n",
              "    </tr>\n",
              "  </thead>\n",
              "  <tbody>\n",
              "    <tr>\n",
              "      <th>242</th>\n",
              "      <td>4.3</td>\n",
              "      <td>201.327851</td>\n",
              "    </tr>\n",
              "    <tr>\n",
              "      <th>243</th>\n",
              "      <td>4.3</td>\n",
              "      <td>267.443533</td>\n",
              "    </tr>\n",
              "    <tr>\n",
              "      <th>244</th>\n",
              "      <td>4.3</td>\n",
              "      <td>147.362858</td>\n",
              "    </tr>\n",
              "    <tr>\n",
              "      <th>245</th>\n",
              "      <td>4.3</td>\n",
              "      <td>137.572160</td>\n",
              "    </tr>\n",
              "    <tr>\n",
              "      <th>246</th>\n",
              "      <td>4.3</td>\n",
              "      <td>135.336606</td>\n",
              "    </tr>\n",
              "  </tbody>\n",
              "</table>\n",
              "</div>"
            ],
            "text/plain": [
              "     MT_Magnitude_      rrup_0\n",
              "242            4.3  201.327851\n",
              "243            4.3  267.443533\n",
              "244            4.3  147.362858\n",
              "245            4.3  137.572160\n",
              "246            4.3  135.336606"
            ]
          },
          "metadata": {
            "tags": []
          },
          "execution_count": 8
        }
      ]
    },
    {
      "cell_type": "code",
      "metadata": {
        "colab": {
          "base_uri": "https://localhost:8080/"
        },
        "id": "iba14XJJbTI5",
        "outputId": "956ceecc-e1fc-4fda-9de6-4988d9bdb697"
      },
      "source": [
        "y_var=df2[['d20_80_new']]\n",
        "y_var=np.log(y_var)\n",
        "y_var=np.array(y_var)\n",
        "y_var"
      ],
      "execution_count": null,
      "outputs": [
        {
          "output_type": "execute_result",
          "data": {
            "text/plain": [
              "array([[2.08478206],\n",
              "       [1.60966386],\n",
              "       [1.58005895],\n",
              "       ...,\n",
              "       [2.01410238],\n",
              "       [2.4234162 ],\n",
              "       [2.12773543]])"
            ]
          },
          "metadata": {
            "tags": []
          },
          "execution_count": 9
        }
      ]
    },
    {
      "cell_type": "code",
      "metadata": {
        "id": "bwiYHNkpbXME"
      },
      "source": [
        "import sklearn\n",
        "from sklearn import preprocessing\n",
        "from sklearn.model_selection import train_test_split"
      ],
      "execution_count": null,
      "outputs": []
    },
    {
      "cell_type": "code",
      "metadata": {
        "id": "56DwTWgzbZsL"
      },
      "source": [
        "X_train, X_test, y_train, y_test=train_test_split(input_var,y_var,test_size=0.3, random_state=21)"
      ],
      "execution_count": null,
      "outputs": []
    },
    {
      "cell_type": "code",
      "metadata": {
        "id": "Y5NE94J_bbNT"
      },
      "source": [
        "X_train=preprocessing.scale(X_train)\n",
        "X_test=preprocessing.scale(X_test)"
      ],
      "execution_count": null,
      "outputs": []
    },
    {
      "cell_type": "code",
      "metadata": {
        "id": "_9nwlMd2bcki"
      },
      "source": [
        "import tensorflow as tf\n",
        "from tensorflow.keras.optimizers import Adam\n",
        "import keras.models\n",
        "from keras.models import Sequential\n",
        "from keras.layers import Dense"
      ],
      "execution_count": null,
      "outputs": []
    },
    {
      "cell_type": "code",
      "metadata": {
        "id": "RWEZJJKMbeeZ"
      },
      "source": [
        "tf.random.set_seed(55)"
      ],
      "execution_count": null,
      "outputs": []
    },
    {
      "cell_type": "code",
      "metadata": {
        "id": "bCJBsz8tbgBk"
      },
      "source": [
        "model=Sequential([Dense(units=5, input_shape=(2,), activation='relu'),\n",
        "                  Dense(units=1, activation='linear')\n",
        "                 ])"
      ],
      "execution_count": null,
      "outputs": []
    },
    {
      "cell_type": "code",
      "metadata": {
        "id": "PJ0Wl7YHbhWP"
      },
      "source": [
        "from tensorflow.keras.optimizers import SGD\n",
        "from tensorflow.keras.optimizers import RMSprop"
      ],
      "execution_count": null,
      "outputs": []
    },
    {
      "cell_type": "code",
      "metadata": {
        "id": "YZHXfZqUbixZ"
      },
      "source": [
        "model.compile(optimizer=Adam(learning_rate=0.01),loss='mean_squared_error')"
      ],
      "execution_count": null,
      "outputs": []
    },
    {
      "cell_type": "code",
      "metadata": {
        "colab": {
          "base_uri": "https://localhost:8080/"
        },
        "id": "k-XjVpTZbkRW",
        "outputId": "e406e892-6d3a-41d3-a1dd-3672af93dab0"
      },
      "source": [
        "history=model.fit(X_train, y_train,batch_size=64, epochs=20, validation_split=0.2, verbose=1)"
      ],
      "execution_count": null,
      "outputs": [
        {
          "output_type": "stream",
          "text": [
            "Epoch 1/20\n",
            "577/577 [==============================] - 14s 2ms/step - loss: 2.2072 - val_loss: 0.3125\n",
            "Epoch 2/20\n",
            "577/577 [==============================] - 1s 1ms/step - loss: 0.2890 - val_loss: 0.2479\n",
            "Epoch 3/20\n",
            "577/577 [==============================] - 1s 1ms/step - loss: 0.2468 - val_loss: 0.2392\n",
            "Epoch 4/20\n",
            "577/577 [==============================] - 1s 1ms/step - loss: 0.2334 - val_loss: 0.2374\n",
            "Epoch 5/20\n",
            "577/577 [==============================] - 1s 1ms/step - loss: 0.2371 - val_loss: 0.2372\n",
            "Epoch 6/20\n",
            "577/577 [==============================] - 1s 1ms/step - loss: 0.2378 - val_loss: 0.2367\n",
            "Epoch 7/20\n",
            "577/577 [==============================] - 1s 1ms/step - loss: 0.2371 - val_loss: 0.2339\n",
            "Epoch 8/20\n",
            "577/577 [==============================] - 1s 1ms/step - loss: 0.2313 - val_loss: 0.2366\n",
            "Epoch 9/20\n",
            "577/577 [==============================] - 1s 1ms/step - loss: 0.2316 - val_loss: 0.2324\n",
            "Epoch 10/20\n",
            "577/577 [==============================] - 1s 1ms/step - loss: 0.2287 - val_loss: 0.2325\n",
            "Epoch 11/20\n",
            "577/577 [==============================] - 1s 1ms/step - loss: 0.2344 - val_loss: 0.2316\n",
            "Epoch 12/20\n",
            "577/577 [==============================] - 1s 1ms/step - loss: 0.2315 - val_loss: 0.2326\n",
            "Epoch 13/20\n",
            "577/577 [==============================] - 1s 1ms/step - loss: 0.2325 - val_loss: 0.2323\n",
            "Epoch 14/20\n",
            "577/577 [==============================] - 1s 1ms/step - loss: 0.2296 - val_loss: 0.2312\n",
            "Epoch 15/20\n",
            "577/577 [==============================] - 1s 1ms/step - loss: 0.2295 - val_loss: 0.2319\n",
            "Epoch 16/20\n",
            "577/577 [==============================] - 1s 1ms/step - loss: 0.2338 - val_loss: 0.2316\n",
            "Epoch 17/20\n",
            "577/577 [==============================] - 1s 1ms/step - loss: 0.2318 - val_loss: 0.2307\n",
            "Epoch 18/20\n",
            "577/577 [==============================] - 1s 1ms/step - loss: 0.2316 - val_loss: 0.2303\n",
            "Epoch 19/20\n",
            "577/577 [==============================] - 1s 1ms/step - loss: 0.2325 - val_loss: 0.2316\n",
            "Epoch 20/20\n",
            "577/577 [==============================] - 1s 1ms/step - loss: 0.2313 - val_loss: 0.2309\n"
          ],
          "name": "stdout"
        }
      ]
    },
    {
      "cell_type": "code",
      "metadata": {
        "colab": {
          "base_uri": "https://localhost:8080/",
          "height": 278
        },
        "id": "e6cxiWRMbl7g",
        "outputId": "c63f6172-5b3d-4858-eee6-909d1a09adf6"
      },
      "source": [
        "history_dict=history.history\n",
        "    \n",
        "loss_values= history_dict['loss']\n",
        "val_loss_values=history_dict['val_loss']\n",
        "plt.figure()\n",
        "    \n",
        "plt.plot(loss_values, 'black', label='training loss')\n",
        "plt.plot(val_loss_values, 'red', label='val training loss')\n",
        "plt.legend(fontsize=12)\n",
        "plt.xlabel('No of epochs')\n",
        "plt.ylabel('Loss')\n",
        "plt.text(7.5,1.0, '$D_{20-80}$', fontsize=15)\n",
        "plt.show()"
      ],
      "execution_count": null,
      "outputs": [
        {
          "output_type": "display_data",
          "data": {
            "image/png": "[encoded data removed]",
            "text/plain": [
              "<Figure size 432x288 with 1 Axes>"
            ]
          },
          "metadata": {
            "tags": [],
            "needs_background": "light"
          }
        }
      ]
    },
    {
      "cell_type": "code",
      "metadata": {
        "id": "rc8Ihd4tb4w1"
      },
      "source": [
        ""
      ],
      "execution_count": null,
      "outputs": []
    }
  ]
}